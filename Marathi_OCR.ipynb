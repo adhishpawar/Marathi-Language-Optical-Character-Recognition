{
  "cells": [
    {
      "cell_type": "code",
      "execution_count": null,
      "metadata": {
        "id": "zjfJ-Jh8UEBH"
      },
      "outputs": [],
      "source": [
        "import pathlib\n",
        "from tensorflow.keras.preprocessing.image import ImageDataGenerator\n",
        "import PIL\n",
        "\n",
        "import tensorflow as tf\n",
        "#from tensorflow.keras.applications import VGG16\n",
        "from tensorflow.keras.layers import Dense, GlobalAveragePooling2D, BatchNormalization\n",
        "from tensorflow.keras.models import Model\n",
        "from tensorflow.keras.callbacks import ModelCheckpoint\n",
        "from tensorflow.keras.optimizers import Adam"
      ]
    },
    {
      "cell_type": "code",
      "execution_count": null,
      "metadata": {
        "colab": {
          "base_uri": "https://localhost:8080/"
        },
        "id": "deFRcjVxUEBJ",
        "outputId": "fa7b3ed5-a70d-4edc-bf46-b22bee0e6f30"
      },
      "outputs": [],
      "source": [
        "data_dir = \"/content/Alphabets\"\n",
        "data_dir = pathlib.Path(data_dir)\n",
        "print(data_dir)\n",
        "\n",
        "test_data_dir = \"/content/Alphabets\"\n",
        "test_data_dir = pathlib.Path(test_data_dir)\n",
        "print(test_data_dir)"
      ]
    },
    {
      "cell_type": "code",
      "execution_count": null,
      "metadata": {
        "colab": {
          "base_uri": "https://localhost:8080/"
        },
        "id": "UBqkMd6cUEBK",
        "outputId": "757c2406-5d00-4a43-fbcd-7a1a82ac6fa6"
      },
      "outputs": [],
      "source": [
        "from tensorflow.keras.preprocessing.image import ImageDataGenerator\n",
        "\n",
        "img_height,img_width=260,260\n",
        "batch_size = 16\n",
        "\n",
        "# Define data augmentation parameters\n",
        "train_datagen = ImageDataGenerator(\n",
        "    rescale=1./255,\n",
        "    validation_split=0.25,\n",
        "    preprocessing_function=tf.keras.applications.efficientnet.preprocess_input\n",
        ")\n",
        "\n",
        "val_datagen = ImageDataGenerator(\n",
        "    rescale=1./255,\n",
        "    validation_split=0.25,\n",
        "    preprocessing_function=tf.keras.applications.efficientnet.preprocess_input\n",
        ")\n",
        "\n",
        "test_datagen = ImageDataGenerator(\n",
        "    rescale=1./255,\n",
        "    preprocessing_function=tf.keras.applications.efficientnet.preprocess_input\n",
        ")\n",
        "\n",
        "# Prepare training dataset with data augmentation\n",
        "train_ds = train_datagen.flow_from_directory(\n",
        "    data_dir,\n",
        "    target_size=(img_height, img_width),\n",
        "    batch_size=batch_size,\n",
        "    class_mode='categorical',\n",
        "    subset='training',\n",
        "    seed=123\n",
        ")\n",
        "\n",
        "# Prepare validation dataset without data augmentation\n",
        "val_ds = val_datagen.flow_from_directory(\n",
        "    data_dir,\n",
        "    target_size=(img_height, img_width),\n",
        "    batch_size=batch_size,\n",
        "    class_mode='categorical',\n",
        "    subset='validation',\n",
        "    seed=123\n",
        ")\n",
        "\n",
        "# Prepare Testing dataset without data augmentation\n",
        "test_ds = test_datagen.flow_from_directory(\n",
        "    test_data_dir,\n",
        "    target_size=(img_height, img_width),\n",
        "    batch_size=batch_size,\n",
        "    class_mode='categorical',\n",
        "    seed=123\n",
        ")"
      ]
    },
    {
      "cell_type": "code",
      "execution_count": null,
      "metadata": {
        "colab": {
          "base_uri": "https://localhost:8080/"
        },
        "id": "HRU8hLhoUEBL",
        "outputId": "d26c4930-2705-4830-ef1c-530770043efa"
      },
      "outputs": [],
      "source": [
        "class_indices = train_ds.class_indices\n",
        "class_names = {v: k for k, v in class_indices.items()}\n",
        "print(class_names)"
      ]
    },
    {
      "cell_type": "code",
      "execution_count": null,
      "metadata": {
        "id": "O41MtGGdpUCe"
      },
      "outputs": [],
      "source": [
        "from tensorflow.keras.applications import EfficientNetB2\n",
        "NUM_CLASSES=48\n",
        "model = EfficientNetB2(\n",
        "    include_top=True,\n",
        "    weights=None,\n",
        "    classes=NUM_CLASSES,\n",
        "    input_shape=(260, 260, 3),\n",
        ")"
      ]
    },
    {
      "cell_type": "code",
      "execution_count": null,
      "metadata": {
        "colab": {
          "base_uri": "https://localhost:8080/"
        },
        "collapsed": true,
        "id": "XHoPhaoNNfW6",
        "outputId": "9abe878d-4331-4caa-85e9-98d7b3d8a299"
      },
      "outputs": [],
      "source": [
        "model.compile(optimizer=\"adam\", loss=\"categorical_crossentropy\", metrics=[\"accuracy\"])\n",
        "model.summary()"
      ]
    },
    {
      "cell_type": "code",
      "execution_count": null,
      "metadata": {
        "id": "ZjZBmBs5Ny0B"
      },
      "outputs": [],
      "source": [
        "# creating checkpoints\n",
        "model_path_acc = \"/your/path/here/Acc.keras\"\n",
        "model_path_loss = \"/your/path/here/Loss.keras\"\n"
      ]
    },
    {
      "cell_type": "code",
      "execution_count": null,
      "metadata": {
        "colab": {
          "base_uri": "https://localhost:8080/",
          "height": 1000
        },
        "id": "A41uj5wbODH6",
        "outputId": "01163eb6-7b9e-4492-acef-dac7e82bc783"
      },
      "outputs": [],
      "source": [
        "# Define the checkpoints\n",
        "checkpoint_acc = ModelCheckpoint(model_path_acc, monitor=\"val_accuracy\", verbose=1, save_best_only=True, mode=\"max\")\n",
        "checkpoint_loss = ModelCheckpoint(model_path_loss, monitor=\"val_loss\", verbose=1, save_best_only=True, mode=\"min\")\n",
        "\n",
        "history = model.fit(\n",
        "    test_ds,\n",
        "    validation_data=val_ds,\n",
        "    epochs=15,\n",
        "    callbacks=[checkpoint_acc,checkpoint_loss]\n",
        ")"
      ]
    },
    {
      "cell_type": "code",
      "execution_count": null,
      "metadata": {
        "id": "xXEeAuruLn2Z"
      },
      "outputs": [],
      "source": [
        "import matplotlib.pyplot as plt\n",
        "\n",
        "\n",
        "def plot_hist(history):\n",
        "    plt.plot(history.history[\"accuracy\"])\n",
        "    plt.plot(history.history[\"val_accuracy\"])\n",
        "    plt.title(\"model accuracy\")\n",
        "    plt.ylabel(\"accuracy\")\n",
        "    plt.xlabel(\"epoch\")\n",
        "    plt.legend([\"train\", \"validation\"], loc=\"upper left\")\n",
        "    plt.show()\n",
        "\n",
        "\n",
        "plot_hist(history)"
      ]
    },
    {
      "cell_type": "code",
      "execution_count": null,
      "metadata": {
        "execution": {
          "iopub.execute_input": "2024-03-29T16:46:48.912793Z",
          "iopub.status.busy": "2024-03-29T16:46:48.912395Z",
          "iopub.status.idle": "2024-03-29T16:49:48.718305Z",
          "shell.execute_reply": "2024-03-29T16:49:48.717239Z",
          "shell.execute_reply.started": "2024-03-29T16:46:48.912764Z"
        },
        "id": "sfXu7SH0UEBL"
      },
      "outputs": [],
      "source": [
        "history = model.fit(\n",
        "    train_ds,\n",
        "    validation_data=val_ds,\n",
        "    epochs=3,\n",
        "    callbacks=[checkpoint_acc,checkpoint_loss]\n",
        ")"
      ]
    },
    {
      "cell_type": "code",
      "execution_count": null,
      "metadata": {
        "colab": {
          "base_uri": "https://localhost:8080/"
        },
        "execution": {
          "iopub.execute_input": "2024-03-29T16:49:56.073326Z",
          "iopub.status.busy": "2024-03-29T16:49:56.072446Z",
          "iopub.status.idle": "2024-03-29T16:49:58.401325Z",
          "shell.execute_reply": "2024-03-29T16:49:58.400397Z",
          "shell.execute_reply.started": "2024-03-29T16:49:56.073292Z"
        },
        "id": "NGzxeTnzUEBM",
        "outputId": "50cbeb22-abe7-424c-cbe1-f5eda6c1353e"
      },
      "outputs": [],
      "source": [
        "from tensorflow.keras.models import load_model\n",
        "best_model1 = load_model(\"/content/drive/MyDrive/all_models/MNCR_best_model_M1_V2_Acc.keras\")\n",
        "\n",
        "# best model1\n",
        "test_loss, train_accuracy = best_model1.evaluate(train_ds)\n",
        "\n",
        "print(f\"Testing Loss: {test_loss}\")\n",
        "print(f\"Testing Accuracy: {train_accuracy}\")"
      ]
    },
    {
      "cell_type": "code",
      "execution_count": null,
      "metadata": {
        "execution": {
          "iopub.execute_input": "2024-03-29T16:50:02.547568Z",
          "iopub.status.busy": "2024-03-29T16:50:02.546580Z",
          "iopub.status.idle": "2024-03-29T16:50:04.047041Z",
          "shell.execute_reply": "2024-03-29T16:50:04.046033Z",
          "shell.execute_reply.started": "2024-03-29T16:50:02.547531Z"
        },
        "id": "vRcnhwNMUEBM"
      },
      "outputs": [],
      "source": [
        "from sklearn.metrics import classification_report\n",
        "import numpy as np\n",
        "\n",
        "# Predict the labels for the testing dataset\n",
        "y_pred = best_model1.predict(test_ds)\n",
        "y_pred_classes = np.argmax(y_pred, axis=1)\n",
        "\n",
        "# Get the true labels from the validation dataset generator\n",
        "test_true_labels = test_ds.classes\n",
        "\n",
        "# Convert one-hot encoded labels to class labels\n",
        "test_class_labels = list(test_ds.class_indices.keys())\n",
        "\n",
        "# Generate classification report\n",
        "classification_rep = classification_report(test_true_labels, y_pred_classes, target_names=test_class_labels)\n",
        "\n",
        "print(\"Classification Report:\")\n",
        "print(classification_rep)"
      ]
    },
    {
      "cell_type": "code",
      "execution_count": null,
      "metadata": {
        "execution": {
          "iopub.execute_input": "2024-03-29T16:50:08.611873Z",
          "iopub.status.busy": "2024-03-29T16:50:08.611479Z",
          "iopub.status.idle": "2024-03-29T16:50:09.408187Z",
          "shell.execute_reply": "2024-03-29T16:50:09.407124Z",
          "shell.execute_reply.started": "2024-03-29T16:50:08.611845Z"
        },
        "id": "wNcpX1e9UEBN"
      },
      "outputs": [],
      "source": [
        "# Confusion Matrix\n",
        "import numpy as np\n",
        "import matplotlib.pyplot as plt\n",
        "import seaborn as sns\n",
        "from sklearn.metrics import confusion_matrix\n",
        "\n",
        "\n",
        "# Create a confusion matrix\n",
        "conf_matrix = confusion_matrix(test_true_labels, y_pred_classes)\n",
        "\n",
        "# Plot the confusion matrix\n",
        "plt.figure(figsize=(10, 8))\n",
        "sns.heatmap(conf_matrix, annot=True, fmt='d', cmap='Blues', xticklabels=test_class_labels, yticklabels=test_class_labels)\n",
        "plt.xlabel('Predicted Labels')\n",
        "plt.ylabel('True Labels')\n",
        "plt.title('Confusion Matrix')\n",
        "plt.show()"
      ]
    },
    {
      "cell_type": "code",
      "execution_count": null,
      "metadata": {
        "execution": {
          "iopub.execute_input": "2024-03-29T16:50:33.646926Z",
          "iopub.status.busy": "2024-03-29T16:50:33.646561Z",
          "iopub.status.idle": "2024-03-29T16:50:36.149965Z",
          "shell.execute_reply": "2024-03-29T16:50:36.148765Z",
          "shell.execute_reply.started": "2024-03-29T16:50:33.646901Z"
        },
        "id": "GjXPO_obUEBN"
      },
      "outputs": [],
      "source": [
        "best_model2 = load_model(\"/content/drive/MyDrive/all_models/MNCR_best_model_M1_V2_Acc.h5\")\n",
        "\n",
        "# best model2\n",
        "test_loss, test_accuracy = best_model2.evaluate(test_ds)\n",
        "print(f\"Testing Loss: {test_loss}\")\n",
        "print(f\"Testing Accuracy: {test_accuracy}\")"
      ]
    },
    {
      "cell_type": "code",
      "execution_count": null,
      "metadata": {
        "execution": {
          "iopub.execute_input": "2024-03-29T16:50:40.947204Z",
          "iopub.status.busy": "2024-03-29T16:50:40.946429Z",
          "iopub.status.idle": "2024-03-29T16:50:42.582359Z",
          "shell.execute_reply": "2024-03-29T16:50:42.581142Z",
          "shell.execute_reply.started": "2024-03-29T16:50:40.947176Z"
        },
        "id": "7ZRz2kOyUEBP"
      },
      "outputs": [],
      "source": [
        "from sklearn.metrics import classification_report\n",
        "import numpy as np\n",
        "\n",
        "# Predict the labels for the testing dataset\n",
        "y_pred = best_model2.predict(test_ds)\n",
        "y_pred_classes = np.argmax(y_pred, axis=1)\n",
        "\n",
        "# Get the true labels from the validation dataset generator\n",
        "test_true_labels = test_ds.classes\n",
        "\n",
        "# Convert one-hot encoded labels to class labels\n",
        "test_class_labels = list(test_ds.class_indices.keys())\n",
        "\n",
        "# Generate classification report\n",
        "classification_rep = classification_report(test_true_labels, y_pred_classes, target_names=test_class_labels)\n",
        "\n",
        "print(\"Classification Report:\")\n",
        "print(classification_rep)"
      ]
    },
    {
      "cell_type": "code",
      "execution_count": null,
      "metadata": {
        "execution": {
          "iopub.execute_input": "2024-03-29T16:50:46.877544Z",
          "iopub.status.busy": "2024-03-29T16:50:46.876621Z",
          "iopub.status.idle": "2024-03-29T16:50:47.356185Z",
          "shell.execute_reply": "2024-03-29T16:50:47.355225Z",
          "shell.execute_reply.started": "2024-03-29T16:50:46.877513Z"
        },
        "id": "afxBIq3wUEBP"
      },
      "outputs": [],
      "source": [
        "# Confusion Matrix\n",
        "import numpy as np\n",
        "import matplotlib.pyplot as plt\n",
        "import seaborn as sns\n",
        "from sklearn.metrics import confusion_matrix\n",
        "\n",
        "\n",
        "# Create a confusion matrix\n",
        "conf_matrix = confusion_matrix(test_true_labels, y_pred_classes)\n",
        "\n",
        "# Plot the confusion matrix\n",
        "plt.figure(figsize=(10, 8))\n",
        "sns.heatmap(conf_matrix, annot=True, fmt='d', cmap='Blues', xticklabels=test_class_labels, yticklabels=test_class_labels)\n",
        "plt.xlabel('Predicted Labels')\n",
        "plt.ylabel('True Labels')\n",
        "plt.title('Confusion Matrix')\n",
        "plt.show()"
      ]
    }
  ],
  "metadata": {
    "accelerator": "GPU",
    "colab": {
      "gpuType": "T4",
      "provenance": []
    },
    "kaggle": {
      "accelerator": "gpu",
      "dataSources": [
        {
          "datasetId": 1450,
          "sourceId": 32424,
          "sourceType": "datasetVersion"
        },
        {
          "datasetId": 4602995,
          "sourceId": 7849462,
          "sourceType": "datasetVersion"
        },
        {
          "datasetId": 4554823,
          "sourceId": 7950713,
          "sourceType": "datasetVersion"
        }
      ],
      "dockerImageVersionId": 30648,
      "isGpuEnabled": true,
      "isInternetEnabled": true,
      "language": "python",
      "sourceType": "notebook"
    },
    "kernelspec": {
      "display_name": "Python 3",
      "name": "python3"
    },
    "language_info": {
      "codemirror_mode": {
        "name": "ipython",
        "version": 3
      },
      "file_extension": ".py",
      "mimetype": "text/x-python",
      "name": "python",
      "nbconvert_exporter": "python",
      "pygments_lexer": "ipython3",
      "version": "3.11.7"
    }
  },
  "nbformat": 4,
  "nbformat_minor": 0
}
